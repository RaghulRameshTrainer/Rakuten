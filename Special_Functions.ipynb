{
 "cells": [
  {
   "cell_type": "code",
   "execution_count": null,
   "id": "2fbdef00",
   "metadata": {},
   "outputs": [],
   "source": [
    "'''\n",
    "lambda\n",
    "map\n",
    "filter\n",
    "reduce\n",
    "'''"
   ]
  },
  {
   "cell_type": "markdown",
   "id": "3d336820",
   "metadata": {},
   "source": [
    "# lambda"
   ]
  },
  {
   "cell_type": "code",
   "execution_count": null,
   "id": "45388ad9",
   "metadata": {},
   "outputs": [],
   "source": [
    "#anonymous function / one-line function\n",
    "#syntax : lambda x,y : expr"
   ]
  },
  {
   "cell_type": "markdown",
   "id": "d4c24a04",
   "metadata": {},
   "source": [
    "# find a big number among 2"
   ]
  },
  {
   "cell_type": "code",
   "execution_count": 1,
   "id": "7e7cfad6",
   "metadata": {},
   "outputs": [
    {
     "data": {
      "text/plain": [
       "30"
      ]
     },
     "execution_count": 1,
     "metadata": {},
     "output_type": "execute_result"
    }
   ],
   "source": [
    "(lambda x,y : x if x>y else y)(20,30)"
   ]
  },
  {
   "cell_type": "code",
   "execution_count": 2,
   "id": "0e18eff4",
   "metadata": {},
   "outputs": [
    {
     "data": {
      "text/plain": [
       "6"
      ]
     },
     "execution_count": 2,
     "metadata": {},
     "output_type": "execute_result"
    }
   ],
   "source": [
    "(lambda x,y : x if x>y else y)(6,5)"
   ]
  },
  {
   "cell_type": "code",
   "execution_count": 3,
   "id": "875a1758",
   "metadata": {},
   "outputs": [
    {
     "data": {
      "text/plain": [
       "30"
      ]
     },
     "execution_count": 3,
     "metadata": {},
     "output_type": "execute_result"
    }
   ],
   "source": [
    "(lambda x,y : x+y)(10,20)"
   ]
  },
  {
   "cell_type": "code",
   "execution_count": 4,
   "id": "a460d073",
   "metadata": {},
   "outputs": [],
   "source": [
    "sv=lambda x,y : x+y"
   ]
  },
  {
   "cell_type": "code",
   "execution_count": 5,
   "id": "ec25cd5f",
   "metadata": {},
   "outputs": [
    {
     "data": {
      "text/plain": [
       "110"
      ]
     },
     "execution_count": 5,
     "metadata": {},
     "output_type": "execute_result"
    }
   ],
   "source": [
    "sv(10,100)"
   ]
  },
  {
   "cell_type": "code",
   "execution_count": 6,
   "id": "1b996ffa",
   "metadata": {},
   "outputs": [
    {
     "data": {
      "text/plain": [
       "1100"
      ]
     },
     "execution_count": 6,
     "metadata": {},
     "output_type": "execute_result"
    }
   ],
   "source": [
    "sv(500,600)"
   ]
  },
  {
   "cell_type": "code",
   "execution_count": 7,
   "id": "7ed1bbaa",
   "metadata": {},
   "outputs": [],
   "source": [
    "#square of a number"
   ]
  },
  {
   "cell_type": "code",
   "execution_count": 8,
   "id": "d0387972",
   "metadata": {},
   "outputs": [
    {
     "data": {
      "text/plain": [
       "529"
      ]
     },
     "execution_count": 8,
     "metadata": {},
     "output_type": "execute_result"
    }
   ],
   "source": [
    "(lambda x : x**2)(23)"
   ]
  },
  {
   "cell_type": "code",
   "execution_count": 9,
   "id": "5d3cab31",
   "metadata": {},
   "outputs": [
    {
     "data": {
      "text/plain": [
       "15129"
      ]
     },
     "execution_count": 9,
     "metadata": {},
     "output_type": "execute_result"
    }
   ],
   "source": [
    "(lambda x : x**2)(123)"
   ]
  },
  {
   "cell_type": "code",
   "execution_count": 10,
   "id": "991287e8",
   "metadata": {},
   "outputs": [],
   "source": [
    "# Write a lambda function to get a big number from given 3 individual numbers\n",
    "\n",
    "bigger_number = lambda x,y,z : x if x > y and x > z else y if y > z and y > x else z\n"
   ]
  },
  {
   "cell_type": "code",
   "execution_count": 11,
   "id": "9ea64d9c",
   "metadata": {},
   "outputs": [
    {
     "data": {
      "text/plain": [
       "7"
      ]
     },
     "execution_count": 11,
     "metadata": {},
     "output_type": "execute_result"
    }
   ],
   "source": [
    "bigger_number(5,6,7)"
   ]
  },
  {
   "cell_type": "code",
   "execution_count": 12,
   "id": "007c7ad9",
   "metadata": {},
   "outputs": [],
   "source": [
    "mx=lambda x,y,z: max(x,y,z)"
   ]
  },
  {
   "cell_type": "code",
   "execution_count": 13,
   "id": "d0b96c63",
   "metadata": {},
   "outputs": [
    {
     "data": {
      "text/plain": [
       "60"
      ]
     },
     "execution_count": 13,
     "metadata": {},
     "output_type": "execute_result"
    }
   ],
   "source": [
    "mx(10,30,60)"
   ]
  },
  {
   "cell_type": "markdown",
   "id": "37928e95",
   "metadata": {},
   "source": [
    "# map"
   ]
  },
  {
   "cell_type": "code",
   "execution_count": 15,
   "id": "16d59155",
   "metadata": {},
   "outputs": [
    {
     "data": {
      "text/plain": [
       "[1, 4, 9, 16, 25, 36, 49, 64, 81, 100]"
      ]
     },
     "execution_count": 15,
     "metadata": {},
     "output_type": "execute_result"
    }
   ],
   "source": [
    "list(map(lambda x:x**2, [1,2,3,4,5,6,7,8,9,10]))"
   ]
  },
  {
   "cell_type": "code",
   "execution_count": 17,
   "id": "456a17ef",
   "metadata": {},
   "outputs": [
    {
     "data": {
      "text/plain": [
       "[3.14, 12.56, 28.26, 50.24, 78.5]"
      ]
     },
     "execution_count": 17,
     "metadata": {},
     "output_type": "execute_result"
    }
   ],
   "source": [
    "#circle area\n",
    "\n",
    "list(map(lambda r: 3.14*r**2,[1,2,3,4,5]))"
   ]
  },
  {
   "cell_type": "code",
   "execution_count": 20,
   "id": "f2b14eb3",
   "metadata": {},
   "outputs": [],
   "source": [
    "def find_cube(x):\n",
    "    return x**3"
   ]
  },
  {
   "cell_type": "code",
   "execution_count": 21,
   "id": "07392fd0",
   "metadata": {},
   "outputs": [
    {
     "data": {
      "text/plain": [
       "[1, 8, 27, 64, 125, 216, 343, 512, 729, 1000]"
      ]
     },
     "execution_count": 21,
     "metadata": {},
     "output_type": "execute_result"
    }
   ],
   "source": [
    "list(map(find_cube,[1,2,3,4,5,6,7,8,9,10]))"
   ]
  },
  {
   "cell_type": "code",
   "execution_count": null,
   "id": "65e8afad",
   "metadata": {},
   "outputs": [],
   "source": [
    "1. Write a map function to get the country name coverted to title case\n",
    "2. map function to calculate the area of the triangle"
   ]
  },
  {
   "cell_type": "code",
   "execution_count": 23,
   "id": "e5db5b6a",
   "metadata": {},
   "outputs": [
    {
     "data": {
      "text/plain": [
       "['India', 'China', 'Netharland', 'South Africa']"
      ]
     },
     "execution_count": 23,
     "metadata": {},
     "output_type": "execute_result"
    }
   ],
   "source": [
    "def contry_name_tile_case(x):\n",
    "    return x.title()\n",
    "\n",
    "list(map(contry_name_tile_case,[\"india\",\"china\",\"neTharLand\",\"south africa\"]))\n"
   ]
  },
  {
   "cell_type": "code",
   "execution_count": 24,
   "id": "7fc648e2",
   "metadata": {},
   "outputs": [],
   "source": [
    "def triangle_area(b,h):\n",
    "    return 0.5*b*h"
   ]
  },
  {
   "cell_type": "code",
   "execution_count": 26,
   "id": "d9efeecd",
   "metadata": {},
   "outputs": [
    {
     "data": {
      "text/plain": [
       "[25.0, 60.0, 105.0]"
      ]
     },
     "execution_count": 26,
     "metadata": {},
     "output_type": "execute_result"
    }
   ],
   "source": [
    "base=(5,6,7)\n",
    "height=(10,20,30)\n",
    "list(map(triangle_area,base,height))"
   ]
  },
  {
   "cell_type": "markdown",
   "id": "b15a35ce",
   "metadata": {},
   "source": [
    "# filter"
   ]
  },
  {
   "cell_type": "code",
   "execution_count": 27,
   "id": "22af1e4e",
   "metadata": {},
   "outputs": [
    {
     "data": {
      "text/plain": [
       "[1, 3, 5, 7, 9]"
      ]
     },
     "execution_count": 27,
     "metadata": {},
     "output_type": "execute_result"
    }
   ],
   "source": [
    "list(filter(lambda x: x%2==1 , range(1,11)))"
   ]
  },
  {
   "cell_type": "code",
   "execution_count": 29,
   "id": "df79187a",
   "metadata": {},
   "outputs": [
    {
     "data": {
      "text/plain": [
       "[18, 19, 20, 30, 40, 50, 60]"
      ]
     },
     "execution_count": 29,
     "metadata": {},
     "output_type": "execute_result"
    }
   ],
   "source": [
    "# allow the people to vote only if thier age is 18 and above\n",
    "\n",
    "ages=[1,5,12,14,18,19,20,30,40,50,60]\n",
    "\n",
    "list(filter(lambda x: x>=18, ages))"
   ]
  },
  {
   "cell_type": "markdown",
   "id": "bb9984f0",
   "metadata": {},
   "source": [
    "# Reduce"
   ]
  },
  {
   "cell_type": "code",
   "execution_count": 30,
   "id": "8c468f2f",
   "metadata": {},
   "outputs": [],
   "source": [
    "from functools import reduce"
   ]
  },
  {
   "cell_type": "code",
   "execution_count": 32,
   "id": "7131ba8b",
   "metadata": {},
   "outputs": [
    {
     "data": {
      "text/plain": [
       "5040"
      ]
     },
     "execution_count": 32,
     "metadata": {},
     "output_type": "execute_result"
    }
   ],
   "source": [
    "reduce(lambda x,y : x*y , [1,2,3,4,5,6,7])"
   ]
  },
  {
   "cell_type": "code",
   "execution_count": 33,
   "id": "edef4dcc",
   "metadata": {},
   "outputs": [],
   "source": [
    "def prod_numbers(nums):\n",
    "    res=1\n",
    "    for x in nums:\n",
    "        res*=x\n",
    "    return res"
   ]
  },
  {
   "cell_type": "code",
   "execution_count": 35,
   "id": "82d3a548",
   "metadata": {},
   "outputs": [
    {
     "data": {
      "text/plain": [
       "720"
      ]
     },
     "execution_count": 35,
     "metadata": {},
     "output_type": "execute_result"
    }
   ],
   "source": [
    "prod_numbers([1,2,3,4,5,6])"
   ]
  },
  {
   "cell_type": "code",
   "execution_count": null,
   "id": "3933a34d",
   "metadata": {},
   "outputs": [],
   "source": [
    "# Scope of variable := local, global"
   ]
  },
  {
   "cell_type": "code",
   "execution_count": 42,
   "id": "2e913dbf",
   "metadata": {},
   "outputs": [
    {
     "name": "stdout",
     "output_type": "stream",
     "text": [
      "age before the function call is :10\n",
      "age inside a funcitons is : 11\n",
      "age after the function call is :11\n"
     ]
    }
   ],
   "source": [
    "ram_age=10\n",
    "\n",
    "def birthday():\n",
    "    global ram_age\n",
    "    ram_age=11    #local \n",
    "    print(f\"age inside a funcitons is : {ram_age}\")  # 11\n",
    "    \n",
    "print(f\"age before the function call is :{ram_age}\")  # 10\n",
    "birthday()\n",
    "print(f\"age after the function call is :{ram_age}\")   # 10\n"
   ]
  },
  {
   "cell_type": "code",
   "execution_count": null,
   "id": "ddceef74",
   "metadata": {},
   "outputs": [],
   "source": [
    "# mandatory, optional/default, *agrs [ more num of arguments ], **kwargs [ Dictionary ] \n",
    "# def func(x,z,y=0,*a, **k):\n",
    "#     pass\n",
    "# 6,7,8,9,10,11,12,city='Chennai', tech=\"Python\", days=6, "
   ]
  },
  {
   "cell_type": "code",
   "execution_count": 43,
   "id": "d8b3b92f",
   "metadata": {},
   "outputs": [],
   "source": [
    "# return , yeild"
   ]
  },
  {
   "cell_type": "code",
   "execution_count": 44,
   "id": "4b55f459",
   "metadata": {},
   "outputs": [],
   "source": [
    "def func():\n",
    "    x=3\n",
    "    return x"
   ]
  },
  {
   "cell_type": "code",
   "execution_count": 45,
   "id": "7a4f4982",
   "metadata": {},
   "outputs": [
    {
     "data": {
      "text/plain": [
       "3"
      ]
     },
     "execution_count": 45,
     "metadata": {},
     "output_type": "execute_result"
    }
   ],
   "source": [
    "func()"
   ]
  },
  {
   "cell_type": "code",
   "execution_count": 46,
   "id": "97b0e11e",
   "metadata": {},
   "outputs": [
    {
     "data": {
      "text/plain": [
       "3"
      ]
     },
     "execution_count": 46,
     "metadata": {},
     "output_type": "execute_result"
    }
   ],
   "source": [
    "func()"
   ]
  },
  {
   "cell_type": "code",
   "execution_count": 47,
   "id": "e1a83843",
   "metadata": {},
   "outputs": [
    {
     "data": {
      "text/plain": [
       "3"
      ]
     },
     "execution_count": 47,
     "metadata": {},
     "output_type": "execute_result"
    }
   ],
   "source": [
    "func()"
   ]
  },
  {
   "cell_type": "code",
   "execution_count": 50,
   "id": "9f93c43b",
   "metadata": {},
   "outputs": [],
   "source": [
    "def clients():\n",
    "    return \"Goldman Sachs\"\n",
    "    return \"Amex\"\n",
    "    return \"Visa\"\n",
    "    return \"MasterCard\"\n",
    "    return \"Samsung\""
   ]
  },
  {
   "cell_type": "code",
   "execution_count": 51,
   "id": "d94684fb",
   "metadata": {},
   "outputs": [
    {
     "data": {
      "text/plain": [
       "'Goldman Sachs'"
      ]
     },
     "execution_count": 51,
     "metadata": {},
     "output_type": "execute_result"
    }
   ],
   "source": [
    "clients()"
   ]
  },
  {
   "cell_type": "code",
   "execution_count": 52,
   "id": "2ca7c7b8",
   "metadata": {},
   "outputs": [
    {
     "data": {
      "text/plain": [
       "'Goldman Sachs'"
      ]
     },
     "execution_count": 52,
     "metadata": {},
     "output_type": "execute_result"
    }
   ],
   "source": [
    "clients()"
   ]
  },
  {
   "cell_type": "code",
   "execution_count": 53,
   "id": "e2818cc7",
   "metadata": {},
   "outputs": [],
   "source": [
    "def clients():\n",
    "    yield \"Goldman Sachs\"\n",
    "    yield \"Amex\"\n",
    "    yield \"Visa\"\n",
    "    yield \"MasterCard\"\n",
    "    yield \"Samsung\""
   ]
  },
  {
   "cell_type": "code",
   "execution_count": 55,
   "id": "74b7367e",
   "metadata": {},
   "outputs": [
    {
     "name": "stdout",
     "output_type": "stream",
     "text": [
      "Goldman Sachs\n",
      "Amex\n",
      "Visa\n",
      "MasterCard\n",
      "Samsung\n"
     ]
    }
   ],
   "source": [
    "for c in clients():\n",
    "    print(c)"
   ]
  },
  {
   "cell_type": "code",
   "execution_count": 56,
   "id": "349c9c9a",
   "metadata": {},
   "outputs": [],
   "source": [
    "c=clients()"
   ]
  },
  {
   "cell_type": "code",
   "execution_count": 58,
   "id": "2d4e60b6",
   "metadata": {},
   "outputs": [
    {
     "name": "stdout",
     "output_type": "stream",
     "text": [
      "Goldman Sachs\n"
     ]
    }
   ],
   "source": [
    "print(next(c))"
   ]
  },
  {
   "cell_type": "code",
   "execution_count": 59,
   "id": "eedb79a7",
   "metadata": {},
   "outputs": [
    {
     "name": "stdout",
     "output_type": "stream",
     "text": [
      "Amex\n"
     ]
    }
   ],
   "source": [
    "print(next(c))"
   ]
  },
  {
   "cell_type": "code",
   "execution_count": 60,
   "id": "b15b61e5",
   "metadata": {},
   "outputs": [
    {
     "name": "stdout",
     "output_type": "stream",
     "text": [
      "Visa\n"
     ]
    }
   ],
   "source": [
    "print(next(c))"
   ]
  },
  {
   "cell_type": "code",
   "execution_count": 61,
   "id": "3a2cea1c",
   "metadata": {},
   "outputs": [
    {
     "name": "stdout",
     "output_type": "stream",
     "text": [
      "MasterCard\n"
     ]
    }
   ],
   "source": [
    "print(next(c))"
   ]
  },
  {
   "cell_type": "code",
   "execution_count": 62,
   "id": "64aa4528",
   "metadata": {},
   "outputs": [
    {
     "name": "stdout",
     "output_type": "stream",
     "text": [
      "Samsung\n"
     ]
    }
   ],
   "source": [
    "print(next(c))"
   ]
  },
  {
   "cell_type": "code",
   "execution_count": null,
   "id": "c8fc4fcd",
   "metadata": {},
   "outputs": [],
   "source": [
    "#  Decorators"
   ]
  }
 ],
 "metadata": {
  "kernelspec": {
   "display_name": "Python 3 (ipykernel)",
   "language": "python",
   "name": "python3"
  },
  "language_info": {
   "codemirror_mode": {
    "name": "ipython",
    "version": 3
   },
   "file_extension": ".py",
   "mimetype": "text/x-python",
   "name": "python",
   "nbconvert_exporter": "python",
   "pygments_lexer": "ipython3",
   "version": "3.8.10"
  }
 },
 "nbformat": 4,
 "nbformat_minor": 5
}
